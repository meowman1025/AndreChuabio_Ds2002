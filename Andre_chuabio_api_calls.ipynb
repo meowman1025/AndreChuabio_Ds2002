{
 "cells": [
  {
   "cell_type": "code",
   "execution_count": 1,
   "id": "448e1d64",
   "metadata": {},
   "outputs": [],
   "source": [
    "import os\n",
    "import json\n",
    "import pprint\n",
    "import requests\n",
    "import requests.exceptions\n",
    "import pandas as pd"
   ]
  },
  {
   "cell_type": "code",
   "execution_count": 2,
   "id": "459f6eef",
   "metadata": {},
   "outputs": [
    {
     "name": "stdout",
     "output_type": "stream",
     "text": [
      "MSFT\n"
     ]
    }
   ],
   "source": [
    "#get stock from the user\n",
    "stock=input()"
   ]
  },
  {
   "cell_type": "code",
   "execution_count": 3,
   "id": "7d749679",
   "metadata": {},
   "outputs": [
    {
     "name": "stdout",
     "output_type": "stream",
     "text": [
      "The Stock we will research is:MSFT\n"
     ]
    }
   ],
   "source": [
    "print(\"The Stock we will research is:\" + stock)"
   ]
  },
  {
   "cell_type": "code",
   "execution_count": 73,
   "id": "d688dc40",
   "metadata": {},
   "outputs": [
    {
     "name": "stdout",
     "output_type": "stream",
     "text": [
      "{\"quoteResponse\":{\"result\":[{\"language\":\"en-US\",\"region\":\"US\",\"quoteType\":\"EQUITY\",\"typeDisp\":\"Equity\",\"quoteSourceName\":\"Nasdaq Real Time Price\",\"triggerable\":true,\"customPriceAlertConfidence\":\"HIGH\",\"marketState\":\"POST\",\"currency\":\"USD\",\"exchangeTimezoneName\":\"America/New_York\",\"exchangeTimezoneShortName\":\"EDT\",\"gmtOffSetMilliseconds\":-14400000,\"esgPopulated\":false,\"regularMarketPrice\":283.49,\"exchange\":\"NMS\",\"shortName\":\"Microsoft Corporation\",\"longName\":\"Microsoft Corporation\",\"messageBoardId\":\"finmb_21835\",\"market\":\"us_market\",\"regularMarketChangePercent\":0.23335703,\"tradeable\":false,\"cryptoTradeable\":false,\"financialCurrency\":\"USD\",\"regularMarketOpen\":284.79,\"averageDailyVolume3Month\":31871231,\"averageDailyVolume10Day\":25765990,\"fiftyTwoWeekLowChange\":70.06,\"fiftyTwoWeekLowChangePercent\":0.3282575,\"fiftyTwoWeekRange\":\"213.43 - 294.18\",\"fiftyTwoWeekHighChange\":-10.690002,\"fiftyTwoWeekHighChangePercent\":-0.036338307,\"fiftyTwoWeekLow\":213.43,\"fiftyTwoWeekHigh\":294.18,\"dividendDate\":1686182400,\"earningsTimestamp\":1674599400,\"earningsTimestampStart\":1682333940,\"earningsTimestampEnd\":1682683200,\"trailingAnnualDividendRate\":2.6,\"trailingPE\":31.498888,\"trailingAnnualDividendYield\":0.009192801,\"epsTrailingTwelveMonths\":9.0,\"epsForward\":10.74,\"epsCurrentYear\":9.35,\"priceEpsCurrentYear\":30.319784,\"sharesOutstanding\":7443800064,\"bookValue\":24.592,\"fiftyDayAverage\":265.6484,\"fiftyDayAverageChange\":17.841583,\"fiftyDayAverageChangePercent\":0.067162395,\"twoHundredDayAverage\":254.30965,\"twoHundredDayAverageChange\":29.180344,\"twoHundredDayAverageChangePercent\":0.11474336,\"marketCap\":2110242816000,\"forwardPE\":26.395716,\"priceToBook\":11.527733,\"sourceInterval\":15,\"exchangeDataDelayedBy\":0,\"averageAnalystRating\":\"1.9 - Buy\",\"firstTradeDateMilliseconds\":511108200000,\"priceHint\":2,\"postMarketChangePercent\":-0.17989321,\"postMarketTime\":1681333581,\"postMarketPrice\":282.98,\"postMarketChange\":-0.50997925,\"regularMarketChange\":0.66000366,\"regularMarketTime\":1681329604,\"regularMarketDayHigh\":287.01,\"regularMarketDayRange\":\"281.96 - 287.01\",\"regularMarketDayLow\":281.96,\"regularMarketVolume\":26841573,\"regularMarketPreviousClose\":282.83,\"bid\":283.05,\"ask\":283.25,\"bidSize\":14,\"askSize\":10,\"fullExchangeName\":\"NasdaqGS\",\"displayName\":\"Microsoft\",\"symbol\":\"MSFT\"}],\"error\":null}}\n"
     ]
    }
   ],
   "source": [
    "apikey=\"A7SQwQd7hh2iEX2Oy9BVv6OJFUqnDRmP3jAIyesu\"\n",
    "\n",
    "url = \"https://yfapi.net/v6/finance/quote\"\n",
    "\n",
    "querystring = {\"symbols\":stock}\n",
    "\n",
    "headers = {\n",
    "    'x-api-key': apikey\n",
    "    }\n",
    "\n",
    "response = requests.request(\"GET\", url, headers=headers, params=querystring)\n",
    "\n",
    "print(response.text)"
   ]
  },
  {
   "cell_type": "code",
   "execution_count": 75,
   "id": "300d9e31",
   "metadata": {},
   "outputs": [
    {
     "name": "stdout",
     "output_type": "stream",
     "text": [
      "MSFT\n",
      "Microsoft Price:$283.49\n"
     ]
    }
   ],
   "source": [
    "stock_json = response.json() \n",
    "print(stock_json['quoteResponse']['result'][0][\"symbol\"])\n",
    "print(stock_json['quoteResponse']['result'][0][\"displayName\"] + \" Price:$\" + str(stock_json['quoteResponse']['result'][0][\"regularMarketPrice\"]))"
   ]
  },
  {
   "cell_type": "code",
   "execution_count": 9,
   "id": "6a69ea7b",
   "metadata": {},
   "outputs": [
    {
     "name": "stdout",
     "output_type": "stream",
     "text": [
      "{\"quoteSummary\":{\"result\":[{\"financialData\":{\"maxAge\":86400,\"currentPrice\":{\"raw\":284.08,\"fmt\":\"284.08\"},\"targetHighPrice\":{\"raw\":348.0,\"fmt\":\"348.00\"},\"targetLowPrice\":{\"raw\":212.0,\"fmt\":\"212.00\"},\"targetMeanPrice\":{\"raw\":291.24,\"fmt\":\"291.24\"},\"targetMedianPrice\":{\"raw\":291.0,\"fmt\":\"291.00\"},\"recommendationMean\":{\"raw\":1.9,\"fmt\":\"1.90\"},\"recommendationKey\":\"buy\",\"numberOfAnalystOpinions\":{\"raw\":45,\"fmt\":\"45\",\"longFmt\":\"45\"},\"totalCash\":{\"raw\":99495002112,\"fmt\":\"99.5B\",\"longFmt\":\"99,495,002,112\"},\"totalCashPerShare\":{\"raw\":13.366,\"fmt\":\"13.37\"},\"ebitda\":{\"raw\":97945001984,\"fmt\":\"97.95B\",\"longFmt\":\"97,945,001,984\"},\"totalDebt\":{\"raw\":77984997376,\"fmt\":\"77.98B\",\"longFmt\":\"77,984,997,376\"},\"quickRatio\":{\"raw\":1.656,\"fmt\":\"1.66\"},\"currentRatio\":{\"raw\":1.931,\"fmt\":\"1.93\"},\"totalRevenue\":{\"raw\":204093997056,\"fmt\":\"204.09B\",\"longFmt\":\"204,093,997,056\"},\"debtToEquity\":{\"raw\":42.583,\"fmt\":\"42.58\"},\"revenuePerShare\":{\"raw\":27.327,\"fmt\":\"27.33\"},\"returnOnAssets\":{\"raw\":0.14826,\"fmt\":\"14.83%\"},\"returnOnEquity\":{\"raw\":0.39312,\"fmt\":\"39.31%\"},\"grossProfits\":{\"raw\":135620000000,\"fmt\":\"135.62B\",\"longFmt\":\"135,620,000,000\"},\"freeCashflow\":{\"raw\":44613373952,\"fmt\":\"44.61B\",\"longFmt\":\"44,613,373,952\"},\"operatingCashflow\":{\"raw\":84385996800,\"fmt\":\"84.39B\",\"longFmt\":\"84,385,996,800\"},\"earningsGrowth\":{\"raw\":-0.113,\"fmt\":\"-11.30%\"},\"revenueGrowth\":{\"raw\":0.02,\"fmt\":\"2.00%\"},\"grossMargins\":{\"raw\":0.68160003,\"fmt\":\"68.16%\"},\"ebitdaMargins\":{\"raw\":0.4799,\"fmt\":\"47.99%\"},\"operatingMargins\":{\"raw\":0.40969002,\"fmt\":\"40.97%\"},\"profitMargins\":{\"raw\":0.33048,\"fmt\":\"33.05%\"},\"financialCurrency\":\"USD\"}}],\"error\":null}}\n"
     ]
    }
   ],
   "source": [
    "apikey=\"A7SQwQd7hh2iEX2Oy9BVv6OJFUqnDRmP3jAIyesu\"\n",
    "\n",
    "url_1 = \"https://yfapi.net/v11/finance/quoteSummary/msft?lang=en&region=US&modules=financialData\"\n",
    "\n",
    "querystring = {\"symbols\":stock}\n",
    "\n",
    "headers = {\n",
    "    'x-api-key': apikey\n",
    "    }\n",
    "\n",
    "response1 = requests.request(\"GET\", url_1, headers=headers, params=querystring)\n",
    "\n",
    "print(response1.text)"
   ]
  },
  {
   "cell_type": "code",
   "execution_count": 82,
   "id": "a195225f",
   "metadata": {},
   "outputs": [
    {
     "name": "stdout",
     "output_type": "stream",
     "text": [
      "profit margins are 0.33048\n",
      "targetMeanPrice:291.24\n",
      "cash on hand:$44613373952\n"
     ]
    }
   ],
   "source": [
    "pm_json = response1.json() \n",
    "print(\"profit margins are \" + str(pm_json['quoteSummary']['result'][0][\"financialData\"]['profitMargins']['raw']))\n",
    "print(\"targetMeanPrice:\" + str(pm_json['quoteSummary']['result'][0][\"financialData\"][\"targetMeanPrice\"]['raw']))\n",
    "print(\"cash on hand:$\" + str(pm_json['quoteSummary']['result'][0][\"financialData\"][\"freeCashflow\"]['raw']))"
   ]
  },
  {
   "cell_type": "code",
   "execution_count": 84,
   "id": "ee757c06",
   "metadata": {},
   "outputs": [],
   "source": [
    "from datetime import date\n",
    "\n",
    "name_ticker=stock_json['quoteResponse']['result'][0][\"symbol\"]\n",
    "FN_company=stock_json['quoteResponse']['result'][0][\"displayName\"] \n",
    "CPrice=stock_json['quoteResponse']['result'][0][\"regularMarketPrice\"]\n",
    "profit_margin=pm_json['quoteSummary']['result'][0][\"financialData\"]['profitMargins']['raw']\n",
    "targetMeanPrice=pm_json['quoteSummary']['result'][0][\"financialData\"][\"targetMeanPrice\"]['raw']\n",
    "cashonhand=pm_json['quoteSummary']['result'][0][\"financialData\"][\"freeCashflow\"]['raw']\n",
    "date=date.today()"
   ]
  },
  {
   "cell_type": "code",
   "execution_count": 88,
   "id": "891ff015",
   "metadata": {},
   "outputs": [
    {
     "name": "stdout",
     "output_type": "stream",
     "text": [
      "   name Company full name  current price  profit margin  target mean price  \\\n",
      "0  MSFT         Microsoft         283.49        0.33048             291.24   \n",
      "\n",
      "   cash on hand        date  \n",
      "0   44613373952  2023-04-12  \n"
     ]
    }
   ],
   "source": [
    "data={ \"name\" : name_ticker, \"Company full name\":FN_company,\"current price\":[CPrice],\"profit margin\":[profit_margin],\"target mean price\":[targetMeanPrice],\"cash on hand\": [cashonhand],\"date\":[date]}\n",
    "\n",
    "df=pd.DataFrame(data)\n",
    "print(df)\n",
    "\n",
    "df.to_json(\"msft.json\")"
   ]
  },
  {
   "cell_type": "code",
   "execution_count": null,
   "id": "4d636e60",
   "metadata": {},
   "outputs": [],
   "source": []
  }
 ],
 "metadata": {
  "kernelspec": {
   "display_name": "Python 3 (ipykernel)",
   "language": "python",
   "name": "python3"
  },
  "language_info": {
   "codemirror_mode": {
    "name": "ipython",
    "version": 3
   },
   "file_extension": ".py",
   "mimetype": "text/x-python",
   "name": "python",
   "nbconvert_exporter": "python",
   "pygments_lexer": "ipython3",
   "version": "3.9.7"
  }
 },
 "nbformat": 4,
 "nbformat_minor": 5
}
